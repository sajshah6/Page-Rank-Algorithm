{
 "cells": [
  {
   "cell_type": "code",
   "execution_count": 2,
   "id": "2d736d79-5b71-419b-b9eb-1da22d76bc8b",
   "metadata": {},
   "outputs": [
    {
     "name": "stdout",
     "output_type": "stream",
     "text": [
      "Rankings:\n",
      "Website1\n",
      "Website2\n",
      "Website3\n",
      "Website4\n"
     ]
    }
   ],
   "source": [
    "using LinearAlgebra\n",
    "\n",
    "#list all the websites or nodes\n",
    "websites = [1, 2, 3, 4]\n",
    "\n",
    "#list all the websites that each node maps to (i.e. node 1 goes to node 2,3)\n",
    "links = [[2, 3], [1, 3, 4], [2, 4], [1]]\n",
    "\n",
    "#create the Markov matrix\n",
    "lengthOfWebsites = length(websites)\n",
    "M = zeros(Float64, lengthOfWebsites, lengthOfWebsites)\n",
    "\n",
    "for j in 1:length(links)\n",
    "    lengthOfLinks = length(links[j])\n",
    "    for i in 1:lengthOfWebsites\n",
    "        if websites[i] in links[j]\n",
    "            M[i, j] = (1/lengthOfLinks)\n",
    "        end\n",
    "    end\n",
    "end\n",
    "\n",
    "#create vector a where ith element equals 1 if node at ith index is dangling node\n",
    "a = vec(zeros(lengthOfWebsites, 1))\n",
    "i = 1\n",
    "for column in eachcol(M)\n",
    "    if column == a\n",
    "         a[i] = 1\n",
    "    end\n",
    "    i+=1\n",
    "end\n",
    "\n",
    "#creates matrix S accounting for zero columns\n",
    "e = vec(ones(lengthOfWebsites, 1))\n",
    "S = M + ((1/lengthOfWebsites) * e) * transpose(a)\n",
    "\n",
    "#creates matrix G accounting for popularity of each website\n",
    "alpha = .85\n",
    "G = (alpha) * S + (1-alpha) * (1/lengthOfWebsites) * (e * transpose(e))\n",
    "\n",
    "#find the steady state vector\n",
    "steadyState = vec(nullspace(G-I))\n",
    "\n",
    "#find the sum of the elements in vector\n",
    "total = 0\n",
    "for elem in steadyState\n",
    "    total+=elem\n",
    "end\n",
    "\n",
    "# make component sum of steady state vector equal to 1\n",
    "for i in 1:length(steadyState)\n",
    "    steadyState[i] = steadyState[i] / total\n",
    "end\n",
    "\n",
    "#sort vector from highest to lowest\n",
    "sortedSteadyState = sort(steadyState, rev = true)\n",
    "\n",
    "#print the rankings according to the sorted vector\n",
    "println(\"Rankings:\")\n",
    "dictNodesToProb = Dict()\n",
    "for i in 1:length(steadyState)\n",
    "    dictNodesToProb[i] = steadyState[i]\n",
    "end\n",
    "for sortedElem in sortedSteadyState\n",
    "    for (node, prob) in dictNodesToProb\n",
    "        if sortedElem == prob\n",
    "            println(\"Website\", node)\n",
    "            pop!(dictNodesToProb, node)\n",
    "            break\n",
    "        end\n",
    "    end\n",
    "end"
   ]
  },
  {
   "cell_type": "code",
   "execution_count": null,
   "id": "125acb81-0e9f-4b9d-a9f9-078b4f9bdf09",
   "metadata": {},
   "outputs": [],
   "source": []
  }
 ],
 "metadata": {
  "kernelspec": {
   "display_name": "Julia 1.6.2",
   "language": "julia",
   "name": "julia-1.6"
  },
  "language_info": {
   "file_extension": ".jl",
   "mimetype": "application/julia",
   "name": "julia",
   "version": "1.6.2"
  }
 },
 "nbformat": 4,
 "nbformat_minor": 5
}
